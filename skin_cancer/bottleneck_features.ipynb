{
 "cells": [
  {
   "cell_type": "code",
   "execution_count": 1,
   "metadata": {},
   "outputs": [
    {
     "name": "stderr",
     "output_type": "stream",
     "text": [
      "Using TensorFlow backend.\n"
     ]
    }
   ],
   "source": [
    "import numpy as np\n",
    "from keras.preprocessing.image import ImageDataGenerator\n",
    "from keras.models import Sequential\n",
    "from keras.layers import Dropout, Flatten, Dense\n",
    "from keras import applications"
   ]
  },
  {
   "cell_type": "code",
   "execution_count": 11,
   "metadata": {
    "collapsed": true
   },
   "outputs": [],
   "source": [
    "# dimensions of our images.\n",
    "img_width, img_height = 150, 150\n",
    "\n",
    "top_model_weights_path = 'bottleneck_fc_model.h5'\n",
    "train_data_dir = '/mnt/safe01/data/public/isic/train'\n",
    "validation_data_dir = '/mnt/safe01/data/public/isic/test'\n",
    "nb_train_samples = 4048\n",
    "nb_validation_samples = 480\n",
    "epochs = 50\n",
    "batch_size = 16"
   ]
  },
  {
   "cell_type": "code",
   "execution_count": 3,
   "metadata": {
    "collapsed": true
   },
   "outputs": [],
   "source": [
    "def save_bottlebeck_features():\n",
    "    datagen = ImageDataGenerator(rescale=1. / 255)\n",
    "\n",
    "    # build the VGG16 network\n",
    "    model = applications.VGG16(include_top=False, weights='imagenet')\n",
    "\n",
    "    generator = datagen.flow_from_directory(\n",
    "        train_data_dir,\n",
    "        target_size=(img_width, img_height),\n",
    "        batch_size=batch_size,\n",
    "        class_mode=None,\n",
    "        shuffle=False)\n",
    "    bottleneck_features_train = model.predict_generator(\n",
    "        generator, nb_train_samples // batch_size)\n",
    "    np.save(open('bottleneck_features_train', 'wb'),\n",
    "            bottleneck_features_train)\n",
    "    \n",
    "    generator = datagen.flow_from_directory(\n",
    "        validation_data_dir,\n",
    "        target_size=(img_width, img_height),\n",
    "        batch_size=batch_size,\n",
    "        class_mode=None,\n",
    "        shuffle=False)\n",
    "    bottleneck_features_validation = model.predict_generator(\n",
    "        generator, nb_validation_samples // batch_size)\n",
    "    np.save(open('bottleneck_features_validation', 'wb'),\n",
    "bottleneck_features_validation)"
   ]
  },
  {
   "cell_type": "code",
   "execution_count": 9,
   "metadata": {
    "collapsed": true
   },
   "outputs": [],
   "source": [
    "def train_top_model():\n",
    "    train_data = np.load(open('bottleneck_features_train','rb'))\n",
    "    train_labels = np.array(\n",
    "        [0] * (nb_train_samples // 2) + [1] * (nb_train_samples // 2))\n",
    "\n",
    "    validation_data = np.load(open('bottleneck_features_validation', 'rb'))\n",
    "    validation_labels = np.array(\n",
    "        [0] * (nb_validation_samples // 2) + [1] * (nb_validation_samples // 2))\n",
    "\n",
    "    model = Sequential()\n",
    "    model.add(Flatten(input_shape=train_data.shape[1:]))\n",
    "    model.add(Dense(256, activation='relu'))\n",
    "    model.add(Dropout(0.5))\n",
    "    model.add(Dense(1, activation='sigmoid'))\n",
    "\n",
    "    model.compile(optimizer='rmsprop',\n",
    "                  loss='binary_crossentropy', metrics=['accuracy'])\n",
    "\n",
    "    model.fit(train_data, train_labels,\n",
    "              epochs=epochs,\n",
    "              batch_size=batch_size,\n",
    "              validation_data=(validation_data, validation_labels))\n",
    "    model.save_weights(top_model_weights_path)\n"
   ]
  },
  {
   "cell_type": "code",
   "execution_count": 6,
   "metadata": {},
   "outputs": [
    {
     "name": "stdout",
     "output_type": "stream",
     "text": [
      "Found 4053 images belonging to 2 classes.\n",
      "Found 482 images belonging to 2 classes.\n"
     ]
    }
   ],
   "source": [
    "save_bottlebeck_features()"
   ]
  },
  {
   "cell_type": "code",
   "execution_count": 12,
   "metadata": {},
   "outputs": [
    {
     "name": "stdout",
     "output_type": "stream",
     "text": [
      "Train on 4048 samples, validate on 480 samples\n",
      "Epoch 1/50\n",
      "4048/4048 [==============================] - 2s - loss: 0.7952 - acc: 0.5170 - val_loss: 0.6893 - val_acc: 0.5333\n",
      "Epoch 2/50\n",
      "4048/4048 [==============================] - 2s - loss: 0.6934 - acc: 0.5363 - val_loss: 0.6861 - val_acc: 0.5563\n",
      "Epoch 3/50\n",
      "4048/4048 [==============================] - 2s - loss: 0.6882 - acc: 0.5338 - val_loss: 0.6879 - val_acc: 0.5625\n",
      "Epoch 4/50\n",
      "4048/4048 [==============================] - 2s - loss: 0.6872 - acc: 0.5546 - val_loss: 0.6789 - val_acc: 0.5833\n",
      "Epoch 5/50\n",
      "4048/4048 [==============================] - 2s - loss: 0.6775 - acc: 0.5702 - val_loss: 0.6818 - val_acc: 0.5625\n",
      "Epoch 6/50\n",
      "4048/4048 [==============================] - 2s - loss: 0.6709 - acc: 0.5973 - val_loss: 0.6916 - val_acc: 0.5625\n",
      "Epoch 7/50\n",
      "4048/4048 [==============================] - 2s - loss: 0.6675 - acc: 0.5879 - val_loss: 0.7066 - val_acc: 0.5312\n",
      "Epoch 8/50\n",
      "4048/4048 [==============================] - 2s - loss: 0.6588 - acc: 0.6062 - val_loss: 0.6925 - val_acc: 0.5437\n",
      "Epoch 9/50\n",
      "4048/4048 [==============================] - 2s - loss: 0.6553 - acc: 0.6082 - val_loss: 0.7212 - val_acc: 0.5458\n",
      "Epoch 10/50\n",
      "4048/4048 [==============================] - 2s - loss: 0.6551 - acc: 0.6087 - val_loss: 0.6947 - val_acc: 0.5542\n",
      "Epoch 11/50\n",
      "4048/4048 [==============================] - 2s - loss: 0.6530 - acc: 0.6045 - val_loss: 0.6928 - val_acc: 0.5625\n",
      "Epoch 12/50\n",
      "4048/4048 [==============================] - 2s - loss: 0.6449 - acc: 0.6208 - val_loss: 0.7049 - val_acc: 0.5604\n",
      "Epoch 13/50\n",
      "4048/4048 [==============================] - 2s - loss: 0.6467 - acc: 0.6094 - val_loss: 0.6973 - val_acc: 0.5667\n",
      "Epoch 14/50\n",
      "4048/4048 [==============================] - 2s - loss: 0.6395 - acc: 0.6183 - val_loss: 0.6928 - val_acc: 0.5958\n",
      "Epoch 15/50\n",
      "4048/4048 [==============================] - 2s - loss: 0.6360 - acc: 0.6201 - val_loss: 0.7765 - val_acc: 0.5479\n",
      "Epoch 16/50\n",
      "4048/4048 [==============================] - 2s - loss: 0.6259 - acc: 0.6317 - val_loss: 0.7259 - val_acc: 0.5750\n",
      "Epoch 17/50\n",
      "4048/4048 [==============================] - 2s - loss: 0.6243 - acc: 0.6329 - val_loss: 0.7229 - val_acc: 0.5750\n",
      "Epoch 18/50\n",
      "4048/4048 [==============================] - 2s - loss: 0.6194 - acc: 0.6346 - val_loss: 0.7670 - val_acc: 0.5542\n",
      "Epoch 19/50\n",
      "4048/4048 [==============================] - 2s - loss: 0.6163 - acc: 0.6334 - val_loss: 0.7167 - val_acc: 0.5604\n",
      "Epoch 20/50\n",
      "4048/4048 [==============================] - 2s - loss: 0.6183 - acc: 0.6403 - val_loss: 0.7160 - val_acc: 0.5750\n",
      "Epoch 21/50\n",
      "4048/4048 [==============================] - 2s - loss: 0.6125 - acc: 0.6304 - val_loss: 0.7158 - val_acc: 0.5813\n",
      "Epoch 22/50\n",
      "4048/4048 [==============================] - 2s - loss: 0.6062 - acc: 0.6527 - val_loss: 0.7400 - val_acc: 0.5875\n",
      "Epoch 23/50\n",
      "4048/4048 [==============================] - 2s - loss: 0.6061 - acc: 0.6396 - val_loss: 0.8063 - val_acc: 0.5563\n",
      "Epoch 24/50\n",
      "4048/4048 [==============================] - 2s - loss: 0.5951 - acc: 0.6430 - val_loss: 0.7572 - val_acc: 0.5771\n",
      "Epoch 25/50\n",
      "4048/4048 [==============================] - 2s - loss: 0.5936 - acc: 0.6418 - val_loss: 0.7747 - val_acc: 0.5792\n",
      "Epoch 26/50\n",
      "4048/4048 [==============================] - 2s - loss: 0.5929 - acc: 0.6453 - val_loss: 0.7824 - val_acc: 0.5813\n",
      "Epoch 27/50\n",
      "4048/4048 [==============================] - 2s - loss: 0.5905 - acc: 0.6556 - val_loss: 0.7767 - val_acc: 0.5792\n",
      "Epoch 28/50\n",
      "4048/4048 [==============================] - 2s - loss: 0.5877 - acc: 0.6583 - val_loss: 0.8062 - val_acc: 0.5896\n",
      "Epoch 29/50\n",
      "4048/4048 [==============================] - 2s - loss: 0.5841 - acc: 0.6532 - val_loss: 0.8109 - val_acc: 0.5771\n",
      "Epoch 30/50\n",
      "4048/4048 [==============================] - 2s - loss: 0.5928 - acc: 0.6527 - val_loss: 0.8013 - val_acc: 0.5479\n",
      "Epoch 31/50\n",
      "4048/4048 [==============================] - 2s - loss: 0.5810 - acc: 0.6611 - val_loss: 0.8228 - val_acc: 0.5500\n",
      "Epoch 32/50\n",
      "4048/4048 [==============================] - 2s - loss: 0.5759 - acc: 0.6581 - val_loss: 0.8877 - val_acc: 0.5729\n",
      "Epoch 33/50\n",
      "4048/4048 [==============================] - 2s - loss: 0.5793 - acc: 0.6665 - val_loss: 0.8717 - val_acc: 0.5792\n",
      "Epoch 34/50\n",
      "4048/4048 [==============================] - 2s - loss: 0.5743 - acc: 0.6603 - val_loss: 0.8307 - val_acc: 0.5667\n",
      "Epoch 35/50\n",
      "4048/4048 [==============================] - 2s - loss: 0.5703 - acc: 0.6714 - val_loss: 0.8482 - val_acc: 0.5458\n",
      "Epoch 36/50\n",
      "4048/4048 [==============================] - 2s - loss: 0.5697 - acc: 0.6611 - val_loss: 0.8676 - val_acc: 0.5813\n",
      "Epoch 37/50\n",
      "4048/4048 [==============================] - 2s - loss: 0.5747 - acc: 0.6717 - val_loss: 0.9319 - val_acc: 0.5833\n",
      "Epoch 38/50\n",
      "4048/4048 [==============================] - 2s - loss: 0.5667 - acc: 0.6742 - val_loss: 0.8502 - val_acc: 0.5729\n",
      "Epoch 39/50\n",
      "4048/4048 [==============================] - 2s - loss: 0.5638 - acc: 0.6660 - val_loss: 0.8634 - val_acc: 0.5687\n",
      "Epoch 40/50\n",
      "4048/4048 [==============================] - 2s - loss: 0.5563 - acc: 0.6714 - val_loss: 0.8717 - val_acc: 0.5708\n",
      "Epoch 41/50\n",
      "4048/4048 [==============================] - 2s - loss: 0.5537 - acc: 0.6737 - val_loss: 0.9633 - val_acc: 0.5667\n",
      "Epoch 42/50\n",
      "4048/4048 [==============================] - 2s - loss: 0.5576 - acc: 0.6766 - val_loss: 0.9142 - val_acc: 0.5771\n",
      "Epoch 43/50\n",
      "4048/4048 [==============================] - 2s - loss: 0.5450 - acc: 0.6838 - val_loss: 0.9382 - val_acc: 0.6000\n",
      "Epoch 44/50\n",
      "4048/4048 [==============================] - 2s - loss: 0.5486 - acc: 0.6690 - val_loss: 0.9937 - val_acc: 0.5771\n",
      "Epoch 45/50\n",
      "4048/4048 [==============================] - 2s - loss: 0.5549 - acc: 0.6714 - val_loss: 0.9369 - val_acc: 0.6042\n",
      "Epoch 46/50\n",
      "4048/4048 [==============================] - 2s - loss: 0.5471 - acc: 0.6766 - val_loss: 0.8980 - val_acc: 0.5854\n",
      "Epoch 47/50\n",
      "4048/4048 [==============================] - 2s - loss: 0.5427 - acc: 0.6739 - val_loss: 1.0967 - val_acc: 0.5833\n",
      "Epoch 48/50\n",
      "4048/4048 [==============================] - 2s - loss: 0.5435 - acc: 0.6813 - val_loss: 0.9093 - val_acc: 0.5771\n",
      "Epoch 49/50\n",
      "4048/4048 [==============================] - 2s - loss: 0.5423 - acc: 0.6786 - val_loss: 0.9926 - val_acc: 0.5813\n",
      "Epoch 50/50\n",
      "4048/4048 [==============================] - 2s - loss: 0.5439 - acc: 0.6813 - val_loss: 0.9269 - val_acc: 0.6021\n"
     ]
    }
   ],
   "source": [
    "train_top_model()"
   ]
  },
  {
   "cell_type": "code",
   "execution_count": null,
   "metadata": {
    "collapsed": true
   },
   "outputs": [],
   "source": []
  }
 ],
 "metadata": {
  "kernelspec": {
   "display_name": "Python 2",
   "language": "python",
   "name": "python2"
  },
  "language_info": {
   "codemirror_mode": {
    "name": "ipython",
    "version": 2
   },
   "file_extension": ".py",
   "mimetype": "text/x-python",
   "name": "python",
   "nbconvert_exporter": "python",
   "pygments_lexer": "ipython2",
   "version": "2.7.12"
  }
 },
 "nbformat": 4,
 "nbformat_minor": 2
}
